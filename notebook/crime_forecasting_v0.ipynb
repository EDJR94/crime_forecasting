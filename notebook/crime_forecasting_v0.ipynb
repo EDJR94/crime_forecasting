{
 "cells": [
  {
   "cell_type": "code",
   "execution_count": 1,
   "id": "f6cb4eb3",
   "metadata": {
    "ExecuteTime": {
     "end_time": "2023-08-13T23:17:34.028541Z",
     "start_time": "2023-08-13T23:17:33.194399Z"
    }
   },
   "outputs": [],
   "source": [
    "import pandas as pd\n",
    "import requests"
   ]
  },
  {
   "cell_type": "code",
   "execution_count": 18,
   "id": "eba883b5",
   "metadata": {
    "ExecuteTime": {
     "end_time": "2023-08-13T23:49:54.815579Z",
     "start_time": "2023-08-13T23:49:47.517833Z"
    }
   },
   "outputs": [],
   "source": [
    "from selenium import webdriver\n",
    "from selenium.webdriver.chrome.options import Options\n",
    "\n",
    "\n",
    "# Inicializar o driver do Selenium (você precisa baixar o driver específico para o navegador que está usando)\n",
    "driver = webdriver.Chrome()\n",
    "\n",
    "# Acessar o site\n",
    "driver.get(\"https://www.ssp.sp.gov.br/Estatistica/Pesquisa.aspx\")\n",
    "driver.find_element(\"xpath\", '//*[@id=\"conteudo_repLateral_lkLateral_0\"]').click()\n",
    "driver.find_element(\"xpath\", '//*[@id=\"conteudo_btnExcel\"]').click()\n",
    "\n",
    "\n"
   ]
  },
  {
   "cell_type": "code",
   "execution_count": null,
   "id": "6dcac697",
   "metadata": {},
   "outputs": [],
   "source": [
    "df_raw = pd.read_csv()"
   ]
  }
 ],
 "metadata": {
  "kernelspec": {
   "display_name": "Python 3 (ipykernel)",
   "language": "python",
   "name": "python3"
  },
  "language_info": {
   "codemirror_mode": {
    "name": "ipython",
    "version": 3
   },
   "file_extension": ".py",
   "mimetype": "text/x-python",
   "name": "python",
   "nbconvert_exporter": "python",
   "pygments_lexer": "ipython3",
   "version": "3.10.12"
  }
 },
 "nbformat": 4,
 "nbformat_minor": 5
}
